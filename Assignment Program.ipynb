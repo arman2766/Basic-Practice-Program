{
 "cells": [
  {
   "cell_type": "markdown",
   "metadata": {},
   "source": [
    "## 1.Create a pandas series from a dictionary of values and an ndarray."
   ]
  },
  {
   "cell_type": "code",
   "execution_count": 1,
   "metadata": {},
   "outputs": [],
   "source": [
    "import pandas as pd\n",
    "import numpy as np \n"
   ]
  },
  {
   "cell_type": "code",
   "execution_count": 2,
   "metadata": {},
   "outputs": [
    {
     "name": "stdout",
     "output_type": "stream",
     "text": [
      "0    11\n",
      "1    13\n",
      "2    14\n",
      "3    17\n",
      "4    18\n",
      "5    18\n",
      "6     6\n",
      "dtype: int32\n"
     ]
    }
   ],
   "source": [
    "sr=pd.Series(np.array([11,13,14,17,18,18,6]))\n",
    "print(sr)\n"
   ]
  },
  {
   "cell_type": "code",
   "execution_count": 3,
   "metadata": {},
   "outputs": [],
   "source": [
    "#  create a dictionary \n",
    "dictnry = {'A' : 20, 'B' : 40, 'C' : 60}\n"
   ]
  },
  {
   "cell_type": "code",
   "execution_count": 4,
   "metadata": {},
   "outputs": [
    {
     "name": "stdout",
     "output_type": "stream",
     "text": [
      "A    20\n",
      "B    40\n",
      "C    60\n",
      "dtype: int64\n"
     ]
    }
   ],
   "source": [
    "series = pd.Series(dictnry) \n",
    "print(series)"
   ]
  },
  {
   "cell_type": "markdown",
   "metadata": {},
   "source": [
    "## 2.Given a series print all the elements that are above the 75th percentile"
   ]
  },
  {
   "cell_type": "code",
   "execution_count": 5,
   "metadata": {},
   "outputs": [],
   "source": [
    "import pandas as pd \n",
    "import numpy as np \n"
   ]
  },
  {
   "cell_type": "code",
   "execution_count": 6,
   "metadata": {},
   "outputs": [],
   "source": [
    "sr=pd.Series(np.array([4,6,5,12,18,20,22]))\n"
   ]
  },
  {
   "cell_type": "code",
   "execution_count": 7,
   "metadata": {},
   "outputs": [
    {
     "name": "stdout",
     "output_type": "stream",
     "text": [
      "0     4\n",
      "1     6\n",
      "2     5\n",
      "3    12\n",
      "4    18\n",
      "5    20\n",
      "6    22\n",
      "dtype: int32\n"
     ]
    }
   ],
   "source": [
    "print(sr) \n"
   ]
  },
  {
   "cell_type": "code",
   "execution_count": 8,
   "metadata": {},
   "outputs": [
    {
     "name": "stdout",
     "output_type": "stream",
     "text": [
      "\n",
      "75th Percentile of series is\n",
      "19.0\n",
      "\n",
      "The elements that above the 75th percentile\n",
      "5    20\n",
      "6    22\n",
      "dtype: int32\n"
     ]
    }
   ],
   "source": [
    "reslt=sr.quantile(q=0.75) \n",
    "print()\n",
    "print('75th Percentile of series is')\n",
    "print(reslt)\n",
    "print()\n",
    "print('The elements that above the 75th percentile')\n",
    "print(sr[sr>reslt])"
   ]
  },
  {
   "cell_type": "markdown",
   "metadata": {},
   "source": [
    "## 3.Create a Data Frame quarterly sale where each row contains the item category, item name, and expenditure. Group the rows by the category and print the total expenditure per category."
   ]
  },
  {
   "cell_type": "code",
   "execution_count": 9,
   "metadata": {},
   "outputs": [],
   "source": [
    "import pandas as pd \n"
   ]
  },
  {
   "cell_type": "code",
   "execution_count": 10,
   "metadata": {},
   "outputs": [],
   "source": [
    "# initialize lists\n",
    "data = [['LAPTOP','APPLE',80000],['MONITOR','DELL',45000],['SSD','WD',8000],\n",
    "['HDD','HP',6000],['LAPTOP','APPLE',80000],['MONITOR','DELL',45000],['SSD','WD',8000]]\n",
    "\n"
   ]
  },
  {
   "cell_type": "code",
   "execution_count": 11,
   "metadata": {},
   "outputs": [
    {
     "name": "stdout",
     "output_type": "stream",
     "text": [
      "  itemcats itemname  expenditure\n",
      "0   LAPTOP    APPLE        80000\n",
      "1  MONITOR     DELL        45000\n",
      "2      SSD       WD         8000\n",
      "3      HDD       HP         6000\n",
      "4   LAPTOP    APPLE        80000\n",
      "5  MONITOR     DELL        45000\n",
      "6      SSD       WD         8000\n"
     ]
    }
   ],
   "source": [
    "Cols=['itemcats','itemname','expenditure']\n",
    "# Create the pandas DataFrame\n",
    "qrtlysales = pd.DataFrame(data,columns=Cols)\n",
    "\n",
    "# print dataframe. \n",
    "print (qrtlysales)\n",
    "\n"
   ]
  },
  {
   "cell_type": "code",
   "execution_count": 12,
   "metadata": {},
   "outputs": [
    {
     "name": "stdout",
     "output_type": "stream",
     "text": [
      "Result after Filtering Dataframe\n",
      "          expenditure\n",
      "itemcats             \n",
      "HDD              6000\n",
      "LAPTOP         160000\n",
      "MONITOR         90000\n",
      "SSD             16000\n"
     ]
    },
    {
     "name": "stderr",
     "output_type": "stream",
     "text": [
      "C:\\Users\\Arman\\anaconda3\\lib\\site-packages\\ipykernel_launcher.py:3: FutureWarning: Indexing with multiple keys (implicitly converted to a tuple of keys) will be deprecated, use a list instead.\n",
      "  This is separate from the ipykernel package so we can avoid doing imports until\n"
     ]
    }
   ],
   "source": [
    "qs=qrtlysales.groupby('itemcats') \n",
    "print('Result after Filtering Dataframe') \n",
    "print(qs['itemcats','expenditure'].sum())\n"
   ]
  },
  {
   "cell_type": "markdown",
   "metadata": {},
   "source": [
    "## 4. Create a data frame for examination result and display row labels, column labels data types of each column and the dimensions"
   ]
  },
  {
   "cell_type": "code",
   "execution_count": 13,
   "metadata": {},
   "outputs": [],
   "source": [
    "import pandas as pd\n"
   ]
  },
  {
   "cell_type": "code",
   "execution_count": 14,
   "metadata": {},
   "outputs": [],
   "source": [
    "dictnry={'Class':['I', 'II', 'III', 'IV', 'V', 'VI', 'VII', 'VIII', 'IX', 'X', 'XI', 'XII'],\n",
    "         'Pass-Percentage':[100,95,99,100,100,100,100,100,106,98.6,100,99]}"
   ]
  },
  {
   "cell_type": "code",
   "execution_count": 15,
   "metadata": {},
   "outputs": [],
   "source": [
    "result=pd.DataFrame(dictnry)"
   ]
  },
  {
   "cell_type": "code",
   "execution_count": 16,
   "metadata": {},
   "outputs": [
    {
     "name": "stdout",
     "output_type": "stream",
     "text": [
      "   Class  Pass-Percentage\n",
      "0      I            100.0\n",
      "1     II             95.0\n",
      "2    III             99.0\n",
      "3     IV            100.0\n",
      "4      V            100.0\n",
      "5     VI            100.0\n",
      "6    VII            100.0\n",
      "7   VIII            100.0\n",
      "8     IX            106.0\n",
      "9      X             98.6\n",
      "10    XI            100.0\n",
      "11   XII             99.0\n",
      "Class               object\n",
      "Pass-Percentage    float64\n",
      "dtype: object\n",
      "shape of the dataframe is\n",
      "(12, 2)\n"
     ]
    }
   ],
   "source": [
    "print (result)         # Result\n",
    "print (result.dtypes) # Datatypes\n",
    "print('shape of the dataframe is')\n",
    "print (result.shape) # Shape"
   ]
  },
  {
   "cell_type": "markdown",
   "metadata": {},
   "source": [
    "## 5.Filter out rows based on different criteria such as duplicate rows"
   ]
  },
  {
   "cell_type": "code",
   "execution_count": 17,
   "metadata": {},
   "outputs": [],
   "source": [
    "import pandas as pd "
   ]
  },
  {
   "cell_type": "code",
   "execution_count": 18,
   "metadata": {},
   "outputs": [],
   "source": [
    "data={'Name':['Arman','Aashish','Shashank','Akash','Vikrant','Arman','Anish'], \n",
    "'Sales':[17500,14600,12500,6500,1200,17500,5100]} "
   ]
  },
  {
   "cell_type": "code",
   "execution_count": 19,
   "metadata": {},
   "outputs": [
    {
     "name": "stdout",
     "output_type": "stream",
     "text": [
      "duplicate Row:\n",
      "     Name  Sales\n",
      "0  Arman  17500\n",
      "5  Arman  17500\n"
     ]
    }
   ],
   "source": [
    "sales=pd.DataFrame(data) \n",
    "# Find duplicate rows \n",
    "duplicated = sales[sales.duplicated(keep=False)]\n",
    "print(\"duplicate Row:\\n\",duplicated)"
   ]
  },
  {
   "cell_type": "markdown",
   "metadata": {},
   "source": [
    "## 6.Importing and exporting data between pandas and CSV file."
   ]
  },
  {
   "cell_type": "markdown",
   "metadata": {},
   "source": [
    "### Importing"
   ]
  },
  {
   "cell_type": "code",
   "execution_count": 20,
   "metadata": {},
   "outputs": [],
   "source": [
    "import pandas as pd"
   ]
  },
  {
   "cell_type": "code",
   "execution_count": 21,
   "metadata": {},
   "outputs": [],
   "source": [
    "#Reading the Data\n",
    "df = pd.read_csv(\"Course Details 2021.csv\")"
   ]
  },
  {
   "cell_type": "code",
   "execution_count": 22,
   "metadata": {},
   "outputs": [
    {
     "data": {
      "text/html": [
       "<div>\n",
       "<style scoped>\n",
       "    .dataframe tbody tr th:only-of-type {\n",
       "        vertical-align: middle;\n",
       "    }\n",
       "\n",
       "    .dataframe tbody tr th {\n",
       "        vertical-align: top;\n",
       "    }\n",
       "\n",
       "    .dataframe thead th {\n",
       "        text-align: right;\n",
       "    }\n",
       "</style>\n",
       "<table border=\"1\" class=\"dataframe\">\n",
       "  <thead>\n",
       "    <tr style=\"text-align: right;\">\n",
       "      <th></th>\n",
       "      <th>SNO.</th>\n",
       "      <th>COURSE</th>\n",
       "      <th>DURATION</th>\n",
       "      <th>FEE</th>\n",
       "    </tr>\n",
       "  </thead>\n",
       "  <tbody>\n",
       "    <tr>\n",
       "      <th>0</th>\n",
       "      <td>1</td>\n",
       "      <td>BCA</td>\n",
       "      <td>3 YEAR</td>\n",
       "      <td>75000</td>\n",
       "    </tr>\n",
       "    <tr>\n",
       "      <th>1</th>\n",
       "      <td>2</td>\n",
       "      <td>BBA</td>\n",
       "      <td>3 YEAR</td>\n",
       "      <td>80000</td>\n",
       "    </tr>\n",
       "    <tr>\n",
       "      <th>2</th>\n",
       "      <td>3</td>\n",
       "      <td>BSC HONS</td>\n",
       "      <td>3 YEAR</td>\n",
       "      <td>45000</td>\n",
       "    </tr>\n",
       "    <tr>\n",
       "      <th>3</th>\n",
       "      <td>4</td>\n",
       "      <td>B.TECH</td>\n",
       "      <td>4 YEAR</td>\n",
       "      <td>120000</td>\n",
       "    </tr>\n",
       "    <tr>\n",
       "      <th>4</th>\n",
       "      <td>5</td>\n",
       "      <td>B.PHARMA</td>\n",
       "      <td>3 YEAR</td>\n",
       "      <td>110000</td>\n",
       "    </tr>\n",
       "    <tr>\n",
       "      <th>5</th>\n",
       "      <td>6</td>\n",
       "      <td>BSC NURSUING</td>\n",
       "      <td>4 YEAR</td>\n",
       "      <td>400000</td>\n",
       "    </tr>\n",
       "  </tbody>\n",
       "</table>\n",
       "</div>"
      ],
      "text/plain": [
       "   SNO.        COURSE DURATION     FEE\n",
       "0     1           BCA   3 YEAR   75000\n",
       "1     2           BBA   3 YEAR   80000\n",
       "2     3      BSC HONS   3 YEAR   45000\n",
       "3     4        B.TECH   4 YEAR  120000\n",
       "4     5      B.PHARMA   3 YEAR  110000\n",
       "5     6  BSC NURSUING   4 YEAR  400000"
      ]
     },
     "execution_count": 22,
     "metadata": {},
     "output_type": "execute_result"
    }
   ],
   "source": [
    "df"
   ]
  },
  {
   "cell_type": "markdown",
   "metadata": {},
   "source": [
    "## Exporting"
   ]
  },
  {
   "cell_type": "code",
   "execution_count": 23,
   "metadata": {},
   "outputs": [],
   "source": [
    "import pandas as pd"
   ]
  },
  {
   "cell_type": "code",
   "execution_count": 24,
   "metadata": {},
   "outputs": [],
   "source": [
    "l=[{'FName':'Arman','LName':'khan'},\n",
    "   {'FName':'Rohan','LName':'Raj'},\n",
    "   {'FName':'Ravi','LName':'Kumar'}]\n",
    "df1=pd.DataFrame(l)\n",
    "\n",
    "df1.to_csv('result1.csv') # exporting Default Location"
   ]
  },
  {
   "cell_type": "markdown",
   "metadata": {},
   "source": [
    "## 7. Given the school result data, analyses the performance of the students on different parameters, e.g subject wise or class wise."
   ]
  },
  {
   "cell_type": "code",
   "execution_count": 25,
   "metadata": {},
   "outputs": [],
   "source": [
    "# import pandas and matplotlib \n",
    "import pandas as pd \n",
    "import matplotlib.pyplot as plt"
   ]
  },
  {
   "cell_type": "code",
   "execution_count": 27,
   "metadata": {},
   "outputs": [],
   "source": [
    "# Simple Line Chart with setting of Label of X and Y axis,\n",
    "# title for chart line and color of line \n",
    "subject = ['C','Web ','C++', 'Java','Data Structure']\n",
    "marks =[81,95,71,70,98]"
   ]
  },
  {
   "cell_type": "code",
   "execution_count": 31,
   "metadata": {},
   "outputs": [
    {
     "data": {
      "image/png": "[encoded data removed]",
      "text/plain": [
       "<Figure size 432x288 with 1 Axes>"
      ]
     },
     "metadata": {
      "needs_background": "light"
     },
     "output_type": "display_data"
    }
   ],
   "source": [
    "plt.bar(subject,marks,width=0.5)    \n",
    "# To Write Title of the Line Chart\n",
    "plt.title('Marks Scored')\n",
    "plt.xlabel('SUBJECT')          \n",
    "plt.ylabel('MARKS')            \n",
    "plt.show()"
   ]
  },
  {
   "cell_type": "markdown",
   "metadata": {},
   "source": [
    "## 8. For the Data frames created above, analyze, and plot appropriate charts with title and legend."
   ]
  },
  {
   "cell_type": "code",
   "execution_count": 34,
   "metadata": {},
   "outputs": [],
   "source": [
    "import matplotlib.pyplot as plt\n",
    "import numpy as np"
   ]
  },
  {
   "cell_type": "code",
   "execution_count": 44,
   "metadata": {},
   "outputs": [],
   "source": [
    "s=['1st', '2nd', '3rd']\n",
    "per_computer=[95,89,77] \n",
    "per_manag=[98,93,75]\n",
    "per_medi=[97,92,77]"
   ]
  },
  {
   "cell_type": "code",
   "execution_count": 57,
   "metadata": {},
   "outputs": [
    {
     "data": {
      "image/png": "[encoded data removed]",
      "text/plain": [
       "<Figure size 432x288 with 1 Axes>"
      ]
     },
     "metadata": {
      "needs_background": "light"
     },
     "output_type": "display_data"
    }
   ],
   "source": [
    "x=np.arange(len(s))\n",
    "plt.bar(x,per_computer,label='Computer',width=0.25, color='green')\n",
    "plt.bar(x+0.25,per_manag,label='Management',width=0.25, color='blue')\n",
    "plt.bar(x+0.50,per_medi,label='Medical',width=0.25, color='red')\n",
    "plt.xticks(x,s)\n",
    "plt.xlabel('Position')\n",
    "plt.ylabel('Percentage')\n",
    "plt.title('Bar Graph For Result Analysis')\n",
    "plt.legend()\n",
    "plt.show()"
   ]
  },
  {
   "cell_type": "markdown",
   "metadata": {},
   "source": [
    "##  Take data of your interest from an open-source (e.g. data.gov.in), aggregate and summarize it. Then plot it using different plotting functions of the Matplotlib library."
   ]
  },
  {
   "cell_type": "code",
   "execution_count": 184,
   "metadata": {},
   "outputs": [],
   "source": [
    "import pandas as pd\n",
    "import matplotlib.pyplot as plt\n",
    "df=pd.read_csv('Health_Familiar_Statistics_2018_Table_2A.csv') #Data from data.gov.in"
   ]
  },
  {
   "cell_type": "code",
   "execution_count": 185,
   "metadata": {},
   "outputs": [
    {
     "data": {
      "text/html": [
       "<div>\n",
       "<style scoped>\n",
       "    .dataframe tbody tr th:only-of-type {\n",
       "        vertical-align: middle;\n",
       "    }\n",
       "\n",
       "    .dataframe tbody tr th {\n",
       "        vertical-align: top;\n",
       "    }\n",
       "\n",
       "    .dataframe thead th {\n",
       "        text-align: right;\n",
       "    }\n",
       "</style>\n",
       "<table border=\"1\" class=\"dataframe\">\n",
       "  <thead>\n",
       "    <tr style=\"text-align: right;\">\n",
       "      <th></th>\n",
       "      <th>S.No.</th>\n",
       "      <th>India/State/Union Territory</th>\n",
       "      <th>Population 2011</th>\n",
       "    </tr>\n",
       "  </thead>\n",
       "  <tbody>\n",
       "    <tr>\n",
       "      <th>0</th>\n",
       "      <td>1</td>\n",
       "      <td>Andhra Pradesh</td>\n",
       "      <td>49386799</td>\n",
       "    </tr>\n",
       "    <tr>\n",
       "      <th>1</th>\n",
       "      <td>2</td>\n",
       "      <td>Arunachal Pradesh</td>\n",
       "      <td>1383727</td>\n",
       "    </tr>\n",
       "    <tr>\n",
       "      <th>2</th>\n",
       "      <td>3</td>\n",
       "      <td>Assam</td>\n",
       "      <td>31205576</td>\n",
       "    </tr>\n",
       "    <tr>\n",
       "      <th>3</th>\n",
       "      <td>4</td>\n",
       "      <td>Bihar</td>\n",
       "      <td>104099452</td>\n",
       "    </tr>\n",
       "    <tr>\n",
       "      <th>4</th>\n",
       "      <td>5</td>\n",
       "      <td>Chhattisgarh</td>\n",
       "      <td>25545198</td>\n",
       "    </tr>\n",
       "    <tr>\n",
       "      <th>5</th>\n",
       "      <td>6</td>\n",
       "      <td>Goa</td>\n",
       "      <td>1458545</td>\n",
       "    </tr>\n",
       "    <tr>\n",
       "      <th>6</th>\n",
       "      <td>7</td>\n",
       "      <td>Gujarat</td>\n",
       "      <td>60439692</td>\n",
       "    </tr>\n",
       "    <tr>\n",
       "      <th>7</th>\n",
       "      <td>8</td>\n",
       "      <td>Haryana</td>\n",
       "      <td>25351462</td>\n",
       "    </tr>\n",
       "    <tr>\n",
       "      <th>8</th>\n",
       "      <td>9</td>\n",
       "      <td>Himachal Pradesh</td>\n",
       "      <td>6864602</td>\n",
       "    </tr>\n",
       "    <tr>\n",
       "      <th>9</th>\n",
       "      <td>10</td>\n",
       "      <td>Jammu &amp; Kashmir</td>\n",
       "      <td>12541302</td>\n",
       "    </tr>\n",
       "    <tr>\n",
       "      <th>10</th>\n",
       "      <td>11</td>\n",
       "      <td>Jharkhand</td>\n",
       "      <td>32988134</td>\n",
       "    </tr>\n",
       "    <tr>\n",
       "      <th>11</th>\n",
       "      <td>12</td>\n",
       "      <td>Karnataka</td>\n",
       "      <td>61095297</td>\n",
       "    </tr>\n",
       "    <tr>\n",
       "      <th>12</th>\n",
       "      <td>13</td>\n",
       "      <td>Kerala</td>\n",
       "      <td>33406061</td>\n",
       "    </tr>\n",
       "    <tr>\n",
       "      <th>13</th>\n",
       "      <td>14</td>\n",
       "      <td>Madhya Pradesh</td>\n",
       "      <td>72626809</td>\n",
       "    </tr>\n",
       "    <tr>\n",
       "      <th>14</th>\n",
       "      <td>15</td>\n",
       "      <td>Maharashtra</td>\n",
       "      <td>112374333</td>\n",
       "    </tr>\n",
       "    <tr>\n",
       "      <th>15</th>\n",
       "      <td>16</td>\n",
       "      <td>Manipur</td>\n",
       "      <td>2855794</td>\n",
       "    </tr>\n",
       "    <tr>\n",
       "      <th>16</th>\n",
       "      <td>17</td>\n",
       "      <td>Meghalaya</td>\n",
       "      <td>2966889</td>\n",
       "    </tr>\n",
       "    <tr>\n",
       "      <th>17</th>\n",
       "      <td>18</td>\n",
       "      <td>Mizoram</td>\n",
       "      <td>1097206</td>\n",
       "    </tr>\n",
       "    <tr>\n",
       "      <th>18</th>\n",
       "      <td>19</td>\n",
       "      <td>Nagaland</td>\n",
       "      <td>1978502</td>\n",
       "    </tr>\n",
       "    <tr>\n",
       "      <th>19</th>\n",
       "      <td>20</td>\n",
       "      <td>Odisha</td>\n",
       "      <td>41974218</td>\n",
       "    </tr>\n",
       "    <tr>\n",
       "      <th>20</th>\n",
       "      <td>21</td>\n",
       "      <td>Punjab</td>\n",
       "      <td>27743338</td>\n",
       "    </tr>\n",
       "    <tr>\n",
       "      <th>21</th>\n",
       "      <td>22</td>\n",
       "      <td>Rajasthan</td>\n",
       "      <td>68548437</td>\n",
       "    </tr>\n",
       "    <tr>\n",
       "      <th>22</th>\n",
       "      <td>23</td>\n",
       "      <td>Sikkim</td>\n",
       "      <td>610577</td>\n",
       "    </tr>\n",
       "    <tr>\n",
       "      <th>23</th>\n",
       "      <td>24</td>\n",
       "      <td>Tamil Nadu</td>\n",
       "      <td>72147030</td>\n",
       "    </tr>\n",
       "    <tr>\n",
       "      <th>24</th>\n",
       "      <td>25</td>\n",
       "      <td>Telangana</td>\n",
       "      <td>35193978</td>\n",
       "    </tr>\n",
       "    <tr>\n",
       "      <th>25</th>\n",
       "      <td>26</td>\n",
       "      <td>Tripura</td>\n",
       "      <td>3673917</td>\n",
       "    </tr>\n",
       "    <tr>\n",
       "      <th>26</th>\n",
       "      <td>27</td>\n",
       "      <td>Uttarakhand</td>\n",
       "      <td>10086292</td>\n",
       "    </tr>\n",
       "    <tr>\n",
       "      <th>27</th>\n",
       "      <td>28</td>\n",
       "      <td>Uttar Pradesh</td>\n",
       "      <td>199812341</td>\n",
       "    </tr>\n",
       "    <tr>\n",
       "      <th>28</th>\n",
       "      <td>29</td>\n",
       "      <td>West Bengal</td>\n",
       "      <td>91276115</td>\n",
       "    </tr>\n",
       "    <tr>\n",
       "      <th>29</th>\n",
       "      <td>30</td>\n",
       "      <td>Andaman &amp; Nicobar Island</td>\n",
       "      <td>380581</td>\n",
       "    </tr>\n",
       "    <tr>\n",
       "      <th>30</th>\n",
       "      <td>31</td>\n",
       "      <td>Chandigarh</td>\n",
       "      <td>1055450</td>\n",
       "    </tr>\n",
       "    <tr>\n",
       "      <th>31</th>\n",
       "      <td>32</td>\n",
       "      <td>Dadra &amp; Nagar Haveli</td>\n",
       "      <td>343709</td>\n",
       "    </tr>\n",
       "    <tr>\n",
       "      <th>32</th>\n",
       "      <td>33</td>\n",
       "      <td>Daman &amp; Diu</td>\n",
       "      <td>243247</td>\n",
       "    </tr>\n",
       "    <tr>\n",
       "      <th>33</th>\n",
       "      <td>34</td>\n",
       "      <td>Delhi</td>\n",
       "      <td>16787941</td>\n",
       "    </tr>\n",
       "    <tr>\n",
       "      <th>34</th>\n",
       "      <td>35</td>\n",
       "      <td>Lakshadweep</td>\n",
       "      <td>64473</td>\n",
       "    </tr>\n",
       "    <tr>\n",
       "      <th>35</th>\n",
       "      <td>36</td>\n",
       "      <td>Puducherry</td>\n",
       "      <td>1247953</td>\n",
       "    </tr>\n",
       "  </tbody>\n",
       "</table>\n",
       "</div>"
      ],
      "text/plain": [
       "    S.No. India/State/Union Territory  Population 2011\n",
       "0       1              Andhra Pradesh         49386799\n",
       "1       2           Arunachal Pradesh          1383727\n",
       "2       3                       Assam         31205576\n",
       "3       4                       Bihar        104099452\n",
       "4       5                Chhattisgarh         25545198\n",
       "5       6                         Goa          1458545\n",
       "6       7                     Gujarat         60439692\n",
       "7       8                     Haryana         25351462\n",
       "8       9            Himachal Pradesh          6864602\n",
       "9      10             Jammu & Kashmir         12541302\n",
       "10     11                   Jharkhand         32988134\n",
       "11     12                   Karnataka         61095297\n",
       "12     13                      Kerala         33406061\n",
       "13     14              Madhya Pradesh         72626809\n",
       "14     15                 Maharashtra        112374333\n",
       "15     16                     Manipur          2855794\n",
       "16     17                   Meghalaya          2966889\n",
       "17     18                     Mizoram          1097206\n",
       "18     19                    Nagaland          1978502\n",
       "19     20                      Odisha         41974218\n",
       "20     21                      Punjab         27743338\n",
       "21     22                   Rajasthan         68548437\n",
       "22     23                      Sikkim           610577\n",
       "23     24                  Tamil Nadu         72147030\n",
       "24     25                   Telangana         35193978\n",
       "25     26                     Tripura          3673917\n",
       "26     27                 Uttarakhand         10086292\n",
       "27     28               Uttar Pradesh        199812341\n",
       "28     29                 West Bengal         91276115\n",
       "29     30    Andaman & Nicobar Island           380581\n",
       "30     31                  Chandigarh          1055450\n",
       "31     32        Dadra & Nagar Haveli           343709\n",
       "32     33                 Daman & Diu           243247\n",
       "33     34                       Delhi         16787941\n",
       "34     35                 Lakshadweep            64473\n",
       "35     36                  Puducherry          1247953"
      ]
     },
     "execution_count": 185,
     "metadata": {},
     "output_type": "execute_result"
    }
   ],
   "source": [
    "df"
   ]
  },
  {
   "cell_type": "code",
   "execution_count": 186,
   "metadata": {},
   "outputs": [
    {
     "data": {
      "image/png": "[encoded data removed]",
      "text/plain": [
       "<Figure size 432x288 with 1 Axes>"
      ]
     },
     "metadata": {},
     "output_type": "display_data"
    }
   ],
   "source": [
    "slices=(df['Population 2011'].head(5))\n",
    "states=(df['India/State/Union Territory'].head(5))\n",
    "cols =['b','g','r','c','m','y']\n",
    "plt.pie(slices,labels=states, colors=cols,startangle=90,explode=None,shadow=True,autopct='%.1f%%')\n",
    "plt.title('Population 2011')\n",
    "plt.legend()\n",
    "plt.show()"
   ]
  },
  {
   "cell_type": "code",
   "execution_count": null,
   "metadata": {},
   "outputs": [],
   "source": []
  },
  {
   "cell_type": "code",
   "execution_count": null,
   "metadata": {},
   "outputs": [],
   "source": []
  }
 ],
 "metadata": {
  "kernelspec": {
   "display_name": "Python 3",
   "language": "python",
   "name": "python3"
  },
  "language_info": {
   "codemirror_mode": {
    "name": "ipython",
    "version": 3
   },
   "file_extension": ".py",
   "mimetype": "text/x-python",
   "name": "python",
   "nbconvert_exporter": "python",
   "pygments_lexer": "ipython3",
   "version": "3.7.6"
  }
 },
 "nbformat": 4,
 "nbformat_minor": 4
}
